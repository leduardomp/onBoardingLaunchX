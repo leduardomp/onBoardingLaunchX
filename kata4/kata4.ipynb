{
 "cells": [
  {
   "cell_type": "markdown",
   "metadata": {},
   "source": [
    "# Ejercicio 1: Trasnformar cadenas"
   ]
  },
  {
   "cell_type": "code",
   "execution_count": 3,
   "metadata": {},
   "outputs": [
    {
     "name": "stdout",
     "output_type": "stream",
     "text": [
      " \n",
      "On average, the Moon moves 4cm away from the Earth every year\n",
      " The highest daylight temperature of the Moon is 127 Celsius\n"
     ]
    }
   ],
   "source": [
    "text = \"\"\"Interesting facts about the Moon. The Moon is Earth's only satellite. There are several interesting facts about the Moon and how it affects life here on Earth. \n",
    "On average, the Moon moves 4cm away from the Earth every year. This yearly drift is not significant enough to cause immediate effects on Earth. The highest daylight temperature of the Moon is 127 C.\"\"\"\n",
    "\n",
    "oraciones = text.split('.')\n",
    "\n",
    "palabrasClave = [\"average\",\"temperature\",\"distance\"]\n",
    "\n",
    "for oracion in oraciones:\n",
    "    if oracion.count(palabrasClave[0]) > 0 or oracion.count(palabrasClave[1]) > 0 or oracion.count(palabrasClave[2]) > 0:\n",
    "        if oracion.count(\"C\") > 0:\n",
    "            oracion = oracion.replace(\"C\",\"Celsius\")\n",
    "        print(oracion)\n",
    "\n",
    "\n",
    "\n"
   ]
  },
  {
   "cell_type": "markdown",
   "metadata": {},
   "source": [
    "# Ejercicio 2: Formateando cadenas"
   ]
  },
  {
   "cell_type": "code",
   "execution_count": 15,
   "metadata": {},
   "outputs": [
    {
     "name": "stdout",
     "output_type": "stream",
     "text": [
      "Datos Sobre La Gravedad En Moon, Satelite Del Planeta Earth\n",
      " --------------------------------------------------\n",
      "Planeta: Earth\n",
      "Gravedad en Moon: 1.6199999999999999\n",
      "\n",
      "\n",
      "Datos Sobre La Gravedad En Moon, Satelite Del Planeta Earth\n",
      " --------------------------------------------------\n",
      "Planeta: Earth\n",
      "Gravedad en Moon: 1.6199999999999999\n",
      "\n",
      "\n",
      "Datos sobre la gravedad en Ganímedes\n",
      "____________________________________________________\n",
      "Planeta: Marte\n",
      "Gravedad en Ganímedes: 1.4300000000000002\n",
      "\n"
     ]
    }
   ],
   "source": [
    "# Datos con los que vas a trabajar\n",
    "name = \"Moon\"\n",
    "gravity = 0.00162 # in kms\n",
    "planet = \"Earth\"\n",
    "\n",
    "# Creo el titulo\n",
    "titulo = f\"Datos sobre la gravedad en {name}, satelite del planeta {planet}\"\n",
    "\n",
    "# Creo la plantilla\n",
    "datos = f\"\"\" {'-'*50}\n",
    "Planeta: {planet}\n",
    "Gravedad en {name}: {gravity * 1000}\n",
    "\"\"\"\n",
    "\n",
    "#Union de ambas cadenas\n",
    "plantilla = f\"\"\"{titulo.title()}\n",
    "{datos}\n",
    "\"\"\"\n",
    "print(plantilla)\n",
    "\n",
    "planet = \"Marte\"\n",
    "gravity = 0.00143 # in kms\n",
    "name = \"Ganímedes\"\n",
    "\n",
    "print(plantilla)\n",
    "\n",
    "plantilla2 = \"\"\"Datos sobre la gravedad en {name}\n",
    "____________________________________________________\n",
    "Planeta: {planet}\n",
    "Gravedad en {name}: {gravity}\n",
    "\"\"\"\n",
    "\n",
    "print(plantilla2.format(name=name, gravity=gravity*1000, planet=planet))"
   ]
  }
 ],
 "metadata": {
  "interpreter": {
   "hash": "aee8b7b246df8f9039afb4144a1f6fd8d2ca17a180786b69acc140d282b71a49"
  },
  "kernelspec": {
   "display_name": "Python 3.9.7 64-bit",
   "language": "python",
   "name": "python3"
  },
  "language_info": {
   "codemirror_mode": {
    "name": "ipython",
    "version": 3
   },
   "file_extension": ".py",
   "mimetype": "text/x-python",
   "name": "python",
   "nbconvert_exporter": "python",
   "pygments_lexer": "ipython3",
   "version": "3.9.7"
  },
  "orig_nbformat": 4
 },
 "nbformat": 4,
 "nbformat_minor": 2
}
