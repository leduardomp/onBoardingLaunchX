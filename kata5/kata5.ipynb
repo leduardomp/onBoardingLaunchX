{
 "cells": [
  {
   "cell_type": "markdown",
   "metadata": {},
   "source": [
    "# Ejercicio 1 - Utilizar operadores aritméticos"
   ]
  },
  {
   "cell_type": "code",
   "execution_count": 7,
   "metadata": {},
   "outputs": [
    {
     "name": "stdout",
     "output_type": "stream",
     "text": [
      "628949330 km\n",
      "390577534 millas\n"
     ]
    }
   ],
   "source": [
    "from math import floor\n",
    "\n",
    "#distancia en KM\n",
    "disTierra = 149597870\n",
    "disJupiter = 778547200\n",
    "\n",
    "disFinal = disTierra - disJupiter\n",
    "\n",
    "print(str(abs(disFinal)) + \" km\")\n",
    "print(str(abs(floor(disFinal * 0.621))) + \" millas\")"
   ]
  },
  {
   "cell_type": "markdown",
   "metadata": {},
   "source": [
    "# Ejercicio 2 - convierte cadenas en números y usa valores absolutos"
   ]
  },
  {
   "cell_type": "code",
   "execution_count": 10,
   "metadata": {},
   "outputs": [
    {
     "name": "stdout",
     "output_type": "stream",
     "text": [
      "628949330 km\n",
      "390577534 millas\n"
     ]
    }
   ],
   "source": [
    "from math import floor\n",
    "\n",
    "planeta1 = input(\"Distancia del planeta 1\")\n",
    "planeta2 = input(\"Distancia del planeta 2\")\n",
    "\n",
    "distFinal = int(planeta1) - int(planeta2)\n",
    "\n",
    "print(str(abs(disFinal)) + \" km\")\n",
    "print(str(abs(floor(disFinal * 0.621))) + \" millas\")"
   ]
  }
 ],
 "metadata": {
  "interpreter": {
   "hash": "aee8b7b246df8f9039afb4144a1f6fd8d2ca17a180786b69acc140d282b71a49"
  },
  "kernelspec": {
   "display_name": "Python 3.9.7 64-bit",
   "language": "python",
   "name": "python3"
  },
  "language_info": {
   "codemirror_mode": {
    "name": "ipython",
    "version": 3
   },
   "file_extension": ".py",
   "mimetype": "text/x-python",
   "name": "python",
   "nbconvert_exporter": "python",
   "pygments_lexer": "ipython3",
   "version": "3.9.7"
  },
  "orig_nbformat": 4
 },
 "nbformat": 4,
 "nbformat_minor": 2
}
