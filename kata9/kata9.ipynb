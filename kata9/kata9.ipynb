{
 "cells": [
  {
   "cell_type": "markdown",
   "metadata": {},
   "source": [
    "# Ejercicio: Uso de funciones en Python"
   ]
  },
  {
   "cell_type": "markdown",
   "metadata": {},
   "source": [
    "## Ejecicio1: Trabajo con argumentos en funciones"
   ]
  },
  {
   "cell_type": "code",
   "execution_count": 5,
   "metadata": {},
   "outputs": [
    {
     "name": "stdout",
     "output_type": "stream",
     "text": [
      "Reporte de combustible\n",
      "        Tanque1: 5%\n",
      "        Tanque2: 10%\n",
      "        Tanque3: 15%\n",
      "        Promedio: 10.0%\n",
      "    \n"
     ]
    }
   ],
   "source": [
    "# Función para leer 3 tanques de combustible y muestre el promedio\n",
    "def combustible(tanque1, tanque2, tanque3):\n",
    "    promedio = (tanque1 + tanque2 + tanque3) / 3\n",
    "    return f\"\"\"Reporte de combustible\n",
    "        Tanque1: {tanque1}%\n",
    "        Tanque2: {tanque2}%\n",
    "        Tanque3: {tanque3}%\n",
    "        Promedio: {promedio}%\n",
    "    \"\"\"\n",
    "\n",
    "# Llamamos a la función que genera el reporte print(funcion(tanque1, tanque2, tanque3))\n",
    "print(combustible(5,10,15))"
   ]
  },
  {
   "cell_type": "code",
   "execution_count": 7,
   "metadata": {},
   "outputs": [
    {
     "name": "stdout",
     "output_type": "stream",
     "text": [
      "Reporte de combustible\n",
      "        Tanque1: 5%\n",
      "        Tanque2: 10%\n",
      "        Tanque3: 15%\n",
      "        Promedio: 10.0%\n",
      "    \n"
     ]
    }
   ],
   "source": [
    "# Función promedio \n",
    "def promedio(valores):\n",
    "    valTotal = 0\n",
    "    for val in valores:\n",
    "        valTotal += val\n",
    "    return valTotal/len(valores)\n",
    "\n",
    "# Función para leer 3 tanques de combustible y muestre el promedio\n",
    "def combustible(tanque1, tanque2, tanque3):\n",
    "    # Actualiza la función\n",
    "    return f\"\"\"Reporte de combustible\n",
    "        Tanque1: {tanque1}%\n",
    "        Tanque2: {tanque2}%\n",
    "        Tanque3: {tanque3}%\n",
    "        Promedio: {promedio([tanque1,tanque2,tanque3])}%\n",
    "    \"\"\"\n",
    "\n",
    "# Llamamos a la función que genera el reporte print(funcion(tanque1, tanque2, tanque3))\n",
    "print(combustible(5,10,15))"
   ]
  },
  {
   "cell_type": "markdown",
   "metadata": {},
   "source": [
    "## Ejercicio 2: Trabajo con argumentos de palabras clave"
   ]
  },
  {
   "cell_type": "code",
   "execution_count": 13,
   "metadata": {},
   "outputs": [
    {
     "name": "stdout",
     "output_type": "stream",
     "text": [
      "Informe de la misión\n",
      "            Mision a china\n",
      "        Tiempo de vuelo: 400\n",
      "        Tiempo total del viaje: 420\n",
      "        Tanque Externo: 600\n",
      "        Tanque Interno: 400\n",
      "        Total de combustible: 1000\n",
      "    \n",
      "Informe de la misión\n",
      "            Mision a china\n",
      "        Tiempo total del viaje: 420\n",
      "        Total de combustible: 1000\n",
      "    \n",
      "Informe de la misión\n",
      "            Mision a china\n",
      "        Tiempo total del viaje: 420\n",
      "        Total de combustible: 1400\n",
      "    \n",
      "        El tanque principal tiene 600 litros\n",
      "        El tanque interno tiene 400 litros\n",
      "        El tanque externo tiene 400 litros\n"
     ]
    }
   ],
   "source": [
    "# Función con un informe preciso de la misión. Considera hora de prelanzamiento, tiempo de vuelo, destino, tanque externo y tanque interno\n",
    "def info_viaje(horaPreLanza, tiempoVuelo, destino, tanqueExterno, tanqueInterno):\n",
    "    return f\"\"\"Informe de la misión\n",
    "            Mision a {destino}\n",
    "        Tiempo de vuelo: {tiempoVuelo}\n",
    "        Tiempo total del viaje: {tiempoVuelo+horaPreLanza}\n",
    "        Tanque Externo: {tanqueExterno}\n",
    "        Tanque Interno: {tanqueInterno}\n",
    "        Total de combustible: {tanqueInterno+tanqueExterno}\n",
    "    \"\"\"\n",
    "\n",
    "print(info_viaje(20,400,'china',600,400))\n",
    "\n",
    "\n",
    "# Escribe tu nueva función de reporte considerando lo anterior\n",
    "def info_viaje(destino, *minutos, **tanques):\n",
    "    return f\"\"\"Informe de la misión\n",
    "            Mision a {destino}\n",
    "        Tiempo total del viaje: {sum(minutos)}\n",
    "        Total de combustible: {sum(tanques.values())}\n",
    "    \"\"\"\n",
    "\n",
    "print(info_viaje('china', 20, 400, tanque1=600, tanque2=400))\n",
    "\n",
    "\n",
    "# Escribe tu nueva función\n",
    "def info_viaje(destino, *minutos, **tanques):\n",
    "    reporte = f\"\"\"Informe de la misión\n",
    "            Mision a {destino}\n",
    "        Tiempo total del viaje: {sum(minutos)}\n",
    "        Total de combustible: {sum(tanques.values())}\n",
    "    \"\"\"\n",
    "    for nombre, capacidad in tanques.items():\n",
    "        reporte += f\"\"\"\n",
    "        El tanque {nombre} tiene {capacidad} litros\"\"\"\n",
    "\n",
    "    return reporte\n",
    "\n",
    "print(info_viaje('china', 20, 400, principal=600, interno=400, externo=400))\n"
   ]
  }
 ],
 "metadata": {
  "interpreter": {
   "hash": "aee8b7b246df8f9039afb4144a1f6fd8d2ca17a180786b69acc140d282b71a49"
  },
  "kernelspec": {
   "display_name": "Python 3.9.7 64-bit",
   "language": "python",
   "name": "python3"
  },
  "language_info": {
   "codemirror_mode": {
    "name": "ipython",
    "version": 3
   },
   "file_extension": ".py",
   "mimetype": "text/x-python",
   "name": "python",
   "nbconvert_exporter": "python",
   "pygments_lexer": "ipython3",
   "version": "3.9.7"
  },
  "orig_nbformat": 4
 },
 "nbformat": 4,
 "nbformat_minor": 2
}
