{
 "cells": [
  {
   "cell_type": "markdown",
   "metadata": {},
   "source": [
    "# Ejercicios if, else y elif"
   ]
  },
  {
   "cell_type": "code",
   "execution_count": 4,
   "metadata": {},
   "outputs": [
    {
     "name": "stdout",
     "output_type": "stream",
     "text": [
      " *** Advertencia ***, un asteroide se acerca a la tierra muy rápido \n"
     ]
    }
   ],
   "source": [
    "#km/s\n",
    "velMin = 25\n",
    "\n",
    "#km/s\n",
    "velAsteroide = 49\n",
    "\n",
    "if velAsteroide > velMin :\n",
    "    print(\" *** Advertencia ***, un asteroide se acerca a la tierra muy rápido \")\n",
    "else:\n",
    "    print(\" Velocidad del asteroide permitida, menor a \" + str(velMin) +\" km/s \")"
   ]
  },
  {
   "cell_type": "code",
   "execution_count": 8,
   "metadata": {},
   "outputs": [
    {
     "name": "stdout",
     "output_type": "stream",
     "text": [
      "No hay nada que mirar\n"
     ]
    }
   ],
   "source": [
    "#km/s\n",
    "velMin = 20\n",
    "\n",
    "#km/s\n",
    "velAsteroide = 19\n",
    "\n",
    "if velAsteroide >= velMin :\n",
    "    print(\" Mirar al cielo, hay un asteroide en el cielo \")\n",
    "else:\n",
    "    print(\"No hay nada que mirar\")"
   ]
  },
  {
   "cell_type": "code",
   "execution_count": 17,
   "metadata": {},
   "outputs": [
    {
     "name": "stdout",
     "output_type": "stream",
     "text": [
      "Asteroide mayor de 1000 metros, caos general\n"
     ]
    }
   ],
   "source": [
    "#velocidad en km/s\n",
    "velMinAlerta = 25\n",
    "velMinDestello = 20\n",
    "\n",
    "#diametro en metros\n",
    "diametroMinimo = 25\n",
    "diametro1000 = 1000\n",
    "\n",
    "#datos asteroide\n",
    "diametroAsteroide = 1500\n",
    "velAsteroide = 25\n",
    "\n",
    "if(diametroAsteroide < diametroMinimo):\n",
    "    print(\"El asteroide se quemara en la atmósfera\")\n",
    "\n",
    "    if(velAsteroide >= velMinDestello):\n",
    "        print(\"Habrá un destello de luz \")\n",
    "    else:\n",
    "        print(\"No habrá destello\")\n",
    "\n",
    "    if(velAsteroide >= velMinAlerta):\n",
    "        print(\"**** Alerta ******, el asteroide se acerca muy rapido\")\n",
    "\n",
    "elif( diametroAsteroide > diametroMinimo and diametroAsteroide < diametro1000):\n",
    "        print(\"Asteroide causará mucho daño\")\n",
    "\n",
    "        if(velAsteroide >= velMinDestello):\n",
    "            print(\"Habrá un destello de luz \")\n",
    "        else:\n",
    "            print(\"No habrá destello\")\n",
    "        \n",
    "        if(velAsteroide >= velMinAlerta):\n",
    "            print(\"**** Alerta ******, el asteroide se acerca muy rapido\")\n",
    "else:\n",
    "    print(\"Asteroide mayor de 1000 metros, caos general\")"
   ]
  }
 ],
 "metadata": {
  "interpreter": {
   "hash": "aee8b7b246df8f9039afb4144a1f6fd8d2ca17a180786b69acc140d282b71a49"
  },
  "kernelspec": {
   "display_name": "Python 3.9.7 64-bit",
   "language": "python",
   "name": "python3"
  },
  "language_info": {
   "codemirror_mode": {
    "name": "ipython",
    "version": 3
   },
   "file_extension": ".py",
   "mimetype": "text/x-python",
   "name": "python",
   "nbconvert_exporter": "python",
   "pygments_lexer": "ipython3",
   "version": "3.9.7"
  },
  "orig_nbformat": 4
 },
 "nbformat": 4,
 "nbformat_minor": 2
}
