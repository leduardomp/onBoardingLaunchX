{
 "cells": [
  {
   "cell_type": "markdown",
   "metadata": {},
   "source": [
    "# Ejercicio 1 : Crear y usar listas de Python"
   ]
  },
  {
   "cell_type": "code",
   "execution_count": 1,
   "metadata": {},
   "outputs": [
    {
     "name": "stdout",
     "output_type": "stream",
     "text": [
      "Mercurio\n",
      "Venus\n",
      "Tierra\n",
      "Marte\n",
      "Jupiter\n",
      "Saturno\n",
      "Urano\n",
      "Neptuno\n",
      "Plutón\n"
     ]
    }
   ],
   "source": [
    "# Lista de planetas\n",
    "planets = ['Mercurio', 'Venus', 'Tierra', 'Marte', 'Jupiter', 'Saturno', 'Urano', 'Neptuno']\n",
    "\n",
    "#Mostrar lista\n",
    "for planet in planets:\n",
    "    print(planet)\n",
    "\n",
    "planets.append('Plutón')\n",
    "\n",
    "print(planets[-1])\n",
    "\n",
    "\n",
    "\n"
   ]
  },
  {
   "cell_type": "markdown",
   "metadata": {},
   "source": [
    "# Ejercicio 2: Trabajando con datos de una lista"
   ]
  },
  {
   "cell_type": "code",
   "execution_count": 7,
   "metadata": {},
   "outputs": [
    {
     "name": "stdout",
     "output_type": "stream",
     "text": [
      "Planeta ingresado: Tierra\n",
      "------------------\n",
      "Planetas mas cercanos\n",
      "Mercurio\n",
      "Venus\n",
      "------------------\n",
      "Planetas mas lejanos\n",
      "Marte\n",
      "Jupiter\n",
      "Saturno\n",
      "Urano\n",
      "Neptuno\n"
     ]
    }
   ],
   "source": [
    "# Lista de planetas\n",
    "planets = ['Mercurio', 'Venus', 'Tierra', 'Marte', 'Jupiter', 'Saturno', 'Urano', 'Neptuno']\n",
    "\n",
    "# Solicitamos el nombre de un planeta\n",
    "planetUser = input(\"Ingresa el nombre de un planeta en Español y usando la primer letra en Mayusculas\")\n",
    "\n",
    "print(\"Planeta ingresado: \"+ planetUser)\n",
    "\n",
    "print(\"------------------\")\n",
    "\n",
    "# Busca el planeta en la lista\n",
    "indexPlanetUser = planets.index(planetUser)\n",
    "\n",
    "# Planetas están más cerca que el que ingresó el usuario\n",
    "planetasMasCercanos = planets[0:indexPlanetUser]\n",
    "\n",
    "# Muestra los planetas más cercanos al sol\n",
    "print(\"Planetas mas cercanos\")\n",
    "for planetCercano in planetasMasCercanos:\n",
    "    print(planetCercano)\n",
    "\n",
    "print(\"------------------\")\n",
    "\n",
    "# Planetas están más lejanos que el que ingresó el usuario\n",
    "planetasMasLejanos = planets[indexPlanetUser+1:]\n",
    "\n",
    "print(\"Planetas mas lejanos\")\n",
    "for planetLejano in planetasMasLejanos:\n",
    "    print(planetLejano)"
   ]
  }
 ],
 "metadata": {
  "interpreter": {
   "hash": "aee8b7b246df8f9039afb4144a1f6fd8d2ca17a180786b69acc140d282b71a49"
  },
  "kernelspec": {
   "display_name": "Python 3.9.7 64-bit",
   "language": "python",
   "name": "python3"
  },
  "language_info": {
   "codemirror_mode": {
    "name": "ipython",
    "version": 3
   },
   "file_extension": ".py",
   "mimetype": "text/x-python",
   "name": "python",
   "nbconvert_exporter": "python",
   "pygments_lexer": "ipython3",
   "version": "3.9.7"
  },
  "orig_nbformat": 4
 },
 "nbformat": 4,
 "nbformat_minor": 2
}
